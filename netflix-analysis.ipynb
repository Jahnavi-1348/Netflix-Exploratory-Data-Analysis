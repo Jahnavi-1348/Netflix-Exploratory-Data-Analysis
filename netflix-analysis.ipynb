{
 "cells": [
  {
   "cell_type": "code",
   "execution_count": 4,
   "id": "974b5ab3",
   "metadata": {
    "_cell_guid": "b1076dfc-b9ad-4769-8c92-a6c4dae69d19",
    "_kg_hide-input": true,
    "_uuid": "8f2839f25d086af736a60e9eeb907d3b93b6e0e5",
    "execution": {
     "iopub.execute_input": "2025-06-28T23:41:49.081091Z",
     "iopub.status.busy": "2025-06-28T23:41:49.080663Z",
     "iopub.status.idle": "2025-06-28T23:41:51.054230Z",
     "shell.execute_reply": "2025-06-28T23:41:51.052781Z"
    },
    "papermill": {
     "duration": 1.981777,
     "end_time": "2025-06-28T23:41:51.056024",
     "exception": false,
     "start_time": "2025-06-28T23:41:49.074247",
     "status": "completed"
    },
    "tags": []
   },
   "outputs": [],
   "source": [
    "import numpy as np \n",
    "import pandas as pd \n",
    "import os\n"
   ]
  },
  {
   "cell_type": "code",
   "execution_count": null,
   "id": "7c2e31a5",
   "metadata": {
    "_kg_hide-input": true,
    "jupyter": {
     "source_hidden": true
    },
    "papermill": {
     "duration": 0.003994,
     "end_time": "2025-06-28T23:41:51.064632",
     "exception": false,
     "start_time": "2025-06-28T23:41:51.060638",
     "status": "completed"
    },
    "tags": []
   },
   "outputs": [],
   "source": []
  },
  {
   "cell_type": "code",
   "execution_count": 5,
   "id": "086adee1",
   "metadata": {
    "execution": {
     "iopub.execute_input": "2025-06-28T23:41:51.075303Z",
     "iopub.status.busy": "2025-06-28T23:41:51.074906Z",
     "iopub.status.idle": "2025-06-28T23:41:51.192009Z",
     "shell.execute_reply": "2025-06-28T23:41:51.191038Z"
    },
    "papermill": {
     "duration": 0.124719,
     "end_time": "2025-06-28T23:41:51.193674",
     "exception": false,
     "start_time": "2025-06-28T23:41:51.068955",
     "status": "completed"
    },
    "tags": []
   },
   "outputs": [],
   "source": [
    "\n",
    "df = pd.read_csv(r\"C:\\Users\\jahna\\Downloads\\archive1\\netflix_titles.csv\")\n"
   ]
  },
  {
   "cell_type": "code",
   "execution_count": 6,
   "id": "33eedd59",
   "metadata": {
    "execution": {
     "iopub.execute_input": "2025-06-28T23:41:51.204853Z",
     "iopub.status.busy": "2025-06-28T23:41:51.204526Z",
     "iopub.status.idle": "2025-06-28T23:41:51.232483Z",
     "shell.execute_reply": "2025-06-28T23:41:51.231452Z"
    },
    "papermill": {
     "duration": 0.036031,
     "end_time": "2025-06-28T23:41:51.234088",
     "exception": false,
     "start_time": "2025-06-28T23:41:51.198057",
     "status": "completed"
    },
    "tags": []
   },
   "outputs": [
    {
     "data": {
      "text/html": [
       "<div>\n",
       "<style scoped>\n",
       "    .dataframe tbody tr th:only-of-type {\n",
       "        vertical-align: middle;\n",
       "    }\n",
       "\n",
       "    .dataframe tbody tr th {\n",
       "        vertical-align: top;\n",
       "    }\n",
       "\n",
       "    .dataframe thead th {\n",
       "        text-align: right;\n",
       "    }\n",
       "</style>\n",
       "<table border=\"1\" class=\"dataframe\">\n",
       "  <thead>\n",
       "    <tr style=\"text-align: right;\">\n",
       "      <th></th>\n",
       "      <th>show_id</th>\n",
       "      <th>type</th>\n",
       "      <th>title</th>\n",
       "      <th>director</th>\n",
       "      <th>cast</th>\n",
       "      <th>country</th>\n",
       "      <th>date_added</th>\n",
       "      <th>release_year</th>\n",
       "      <th>rating</th>\n",
       "      <th>duration</th>\n",
       "      <th>listed_in</th>\n",
       "      <th>description</th>\n",
       "    </tr>\n",
       "  </thead>\n",
       "  <tbody>\n",
       "    <tr>\n",
       "      <th>0</th>\n",
       "      <td>s1</td>\n",
       "      <td>Movie</td>\n",
       "      <td>Dick Johnson Is Dead</td>\n",
       "      <td>Kirsten Johnson</td>\n",
       "      <td>NaN</td>\n",
       "      <td>United States</td>\n",
       "      <td>September 25, 2021</td>\n",
       "      <td>2020</td>\n",
       "      <td>PG-13</td>\n",
       "      <td>90 min</td>\n",
       "      <td>Documentaries</td>\n",
       "      <td>As her father nears the end of his life, filmm...</td>\n",
       "    </tr>\n",
       "    <tr>\n",
       "      <th>1</th>\n",
       "      <td>s2</td>\n",
       "      <td>TV Show</td>\n",
       "      <td>Blood &amp; Water</td>\n",
       "      <td>NaN</td>\n",
       "      <td>Ama Qamata, Khosi Ngema, Gail Mabalane, Thaban...</td>\n",
       "      <td>South Africa</td>\n",
       "      <td>September 24, 2021</td>\n",
       "      <td>2021</td>\n",
       "      <td>TV-MA</td>\n",
       "      <td>2 Seasons</td>\n",
       "      <td>International TV Shows, TV Dramas, TV Mysteries</td>\n",
       "      <td>After crossing paths at a party, a Cape Town t...</td>\n",
       "    </tr>\n",
       "    <tr>\n",
       "      <th>2</th>\n",
       "      <td>s3</td>\n",
       "      <td>TV Show</td>\n",
       "      <td>Ganglands</td>\n",
       "      <td>Julien Leclercq</td>\n",
       "      <td>Sami Bouajila, Tracy Gotoas, Samuel Jouy, Nabi...</td>\n",
       "      <td>NaN</td>\n",
       "      <td>September 24, 2021</td>\n",
       "      <td>2021</td>\n",
       "      <td>TV-MA</td>\n",
       "      <td>1 Season</td>\n",
       "      <td>Crime TV Shows, International TV Shows, TV Act...</td>\n",
       "      <td>To protect his family from a powerful drug lor...</td>\n",
       "    </tr>\n",
       "    <tr>\n",
       "      <th>3</th>\n",
       "      <td>s4</td>\n",
       "      <td>TV Show</td>\n",
       "      <td>Jailbirds New Orleans</td>\n",
       "      <td>NaN</td>\n",
       "      <td>NaN</td>\n",
       "      <td>NaN</td>\n",
       "      <td>September 24, 2021</td>\n",
       "      <td>2021</td>\n",
       "      <td>TV-MA</td>\n",
       "      <td>1 Season</td>\n",
       "      <td>Docuseries, Reality TV</td>\n",
       "      <td>Feuds, flirtations and toilet talk go down amo...</td>\n",
       "    </tr>\n",
       "    <tr>\n",
       "      <th>4</th>\n",
       "      <td>s5</td>\n",
       "      <td>TV Show</td>\n",
       "      <td>Kota Factory</td>\n",
       "      <td>NaN</td>\n",
       "      <td>Mayur More, Jitendra Kumar, Ranjan Raj, Alam K...</td>\n",
       "      <td>India</td>\n",
       "      <td>September 24, 2021</td>\n",
       "      <td>2021</td>\n",
       "      <td>TV-MA</td>\n",
       "      <td>2 Seasons</td>\n",
       "      <td>International TV Shows, Romantic TV Shows, TV ...</td>\n",
       "      <td>In a city of coaching centers known to train I...</td>\n",
       "    </tr>\n",
       "  </tbody>\n",
       "</table>\n",
       "</div>"
      ],
      "text/plain": [
       "  show_id     type                  title         director  \\\n",
       "0      s1    Movie   Dick Johnson Is Dead  Kirsten Johnson   \n",
       "1      s2  TV Show          Blood & Water              NaN   \n",
       "2      s3  TV Show              Ganglands  Julien Leclercq   \n",
       "3      s4  TV Show  Jailbirds New Orleans              NaN   \n",
       "4      s5  TV Show           Kota Factory              NaN   \n",
       "\n",
       "                                                cast        country  \\\n",
       "0                                                NaN  United States   \n",
       "1  Ama Qamata, Khosi Ngema, Gail Mabalane, Thaban...   South Africa   \n",
       "2  Sami Bouajila, Tracy Gotoas, Samuel Jouy, Nabi...            NaN   \n",
       "3                                                NaN            NaN   \n",
       "4  Mayur More, Jitendra Kumar, Ranjan Raj, Alam K...          India   \n",
       "\n",
       "           date_added  release_year rating   duration  \\\n",
       "0  September 25, 2021          2020  PG-13     90 min   \n",
       "1  September 24, 2021          2021  TV-MA  2 Seasons   \n",
       "2  September 24, 2021          2021  TV-MA   1 Season   \n",
       "3  September 24, 2021          2021  TV-MA   1 Season   \n",
       "4  September 24, 2021          2021  TV-MA  2 Seasons   \n",
       "\n",
       "                                           listed_in  \\\n",
       "0                                      Documentaries   \n",
       "1    International TV Shows, TV Dramas, TV Mysteries   \n",
       "2  Crime TV Shows, International TV Shows, TV Act...   \n",
       "3                             Docuseries, Reality TV   \n",
       "4  International TV Shows, Romantic TV Shows, TV ...   \n",
       "\n",
       "                                         description  \n",
       "0  As her father nears the end of his life, filmm...  \n",
       "1  After crossing paths at a party, a Cape Town t...  \n",
       "2  To protect his family from a powerful drug lor...  \n",
       "3  Feuds, flirtations and toilet talk go down amo...  \n",
       "4  In a city of coaching centers known to train I...  "
      ]
     },
     "execution_count": 6,
     "metadata": {},
     "output_type": "execute_result"
    }
   ],
   "source": [
    "df.head()"
   ]
  },
  {
   "cell_type": "code",
   "execution_count": 7,
   "id": "14af7138",
   "metadata": {
    "execution": {
     "iopub.execute_input": "2025-06-28T23:41:51.244468Z",
     "iopub.status.busy": "2025-06-28T23:41:51.244087Z",
     "iopub.status.idle": "2025-06-28T23:41:51.262923Z",
     "shell.execute_reply": "2025-06-28T23:41:51.261929Z"
    },
    "papermill": {
     "duration": 0.025719,
     "end_time": "2025-06-28T23:41:51.264439",
     "exception": false,
     "start_time": "2025-06-28T23:41:51.238720",
     "status": "completed"
    },
    "tags": []
   },
   "outputs": [
    {
     "data": {
      "text/html": [
       "<div>\n",
       "<style scoped>\n",
       "    .dataframe tbody tr th:only-of-type {\n",
       "        vertical-align: middle;\n",
       "    }\n",
       "\n",
       "    .dataframe tbody tr th {\n",
       "        vertical-align: top;\n",
       "    }\n",
       "\n",
       "    .dataframe thead th {\n",
       "        text-align: right;\n",
       "    }\n",
       "</style>\n",
       "<table border=\"1\" class=\"dataframe\">\n",
       "  <thead>\n",
       "    <tr style=\"text-align: right;\">\n",
       "      <th></th>\n",
       "      <th>release_year</th>\n",
       "    </tr>\n",
       "  </thead>\n",
       "  <tbody>\n",
       "    <tr>\n",
       "      <th>count</th>\n",
       "      <td>8807.000000</td>\n",
       "    </tr>\n",
       "    <tr>\n",
       "      <th>mean</th>\n",
       "      <td>2014.180198</td>\n",
       "    </tr>\n",
       "    <tr>\n",
       "      <th>std</th>\n",
       "      <td>8.819312</td>\n",
       "    </tr>\n",
       "    <tr>\n",
       "      <th>min</th>\n",
       "      <td>1925.000000</td>\n",
       "    </tr>\n",
       "    <tr>\n",
       "      <th>25%</th>\n",
       "      <td>2013.000000</td>\n",
       "    </tr>\n",
       "    <tr>\n",
       "      <th>50%</th>\n",
       "      <td>2017.000000</td>\n",
       "    </tr>\n",
       "    <tr>\n",
       "      <th>75%</th>\n",
       "      <td>2019.000000</td>\n",
       "    </tr>\n",
       "    <tr>\n",
       "      <th>max</th>\n",
       "      <td>2021.000000</td>\n",
       "    </tr>\n",
       "  </tbody>\n",
       "</table>\n",
       "</div>"
      ],
      "text/plain": [
       "       release_year\n",
       "count   8807.000000\n",
       "mean    2014.180198\n",
       "std        8.819312\n",
       "min     1925.000000\n",
       "25%     2013.000000\n",
       "50%     2017.000000\n",
       "75%     2019.000000\n",
       "max     2021.000000"
      ]
     },
     "execution_count": 7,
     "metadata": {},
     "output_type": "execute_result"
    }
   ],
   "source": [
    "df.describe()"
   ]
  },
  {
   "cell_type": "code",
   "execution_count": 8,
   "id": "66732fce",
   "metadata": {
    "execution": {
     "iopub.execute_input": "2025-06-28T23:41:51.274512Z",
     "iopub.status.busy": "2025-06-28T23:41:51.274224Z",
     "iopub.status.idle": "2025-06-28T23:41:51.282577Z",
     "shell.execute_reply": "2025-06-28T23:41:51.281585Z"
    },
    "papermill": {
     "duration": 0.015428,
     "end_time": "2025-06-28T23:41:51.284411",
     "exception": false,
     "start_time": "2025-06-28T23:41:51.268983",
     "status": "completed"
    },
    "tags": []
   },
   "outputs": [
    {
     "data": {
      "text/plain": [
       "Index(['show_id', 'type', 'title', 'director', 'cast', 'country', 'date_added',\n",
       "       'release_year', 'rating', 'duration', 'listed_in', 'description'],\n",
       "      dtype='object')"
      ]
     },
     "execution_count": 8,
     "metadata": {},
     "output_type": "execute_result"
    }
   ],
   "source": [
    "df.columns"
   ]
  },
  {
   "cell_type": "code",
   "execution_count": 9,
   "id": "73d6dfe8",
   "metadata": {
    "execution": {
     "iopub.execute_input": "2025-06-28T23:41:51.295855Z",
     "iopub.status.busy": "2025-06-28T23:41:51.295556Z",
     "iopub.status.idle": "2025-06-28T23:41:51.301156Z",
     "shell.execute_reply": "2025-06-28T23:41:51.300114Z"
    },
    "papermill": {
     "duration": 0.013302,
     "end_time": "2025-06-28T23:41:51.302614",
     "exception": false,
     "start_time": "2025-06-28T23:41:51.289312",
     "status": "completed"
    },
    "tags": []
   },
   "outputs": [
    {
     "data": {
      "text/plain": [
       "(8807, 12)"
      ]
     },
     "execution_count": 9,
     "metadata": {},
     "output_type": "execute_result"
    }
   ],
   "source": [
    "df.shape"
   ]
  },
  {
   "cell_type": "code",
   "execution_count": 10,
   "id": "55fbaeea",
   "metadata": {
    "execution": {
     "iopub.execute_input": "2025-06-28T23:41:51.313997Z",
     "iopub.status.busy": "2025-06-28T23:41:51.313696Z",
     "iopub.status.idle": "2025-06-28T23:41:51.338199Z",
     "shell.execute_reply": "2025-06-28T23:41:51.337189Z"
    },
    "papermill": {
     "duration": 0.031872,
     "end_time": "2025-06-28T23:41:51.339607",
     "exception": false,
     "start_time": "2025-06-28T23:41:51.307735",
     "status": "completed"
    },
    "tags": []
   },
   "outputs": [
    {
     "name": "stdout",
     "output_type": "stream",
     "text": [
      "<class 'pandas.core.frame.DataFrame'>\n",
      "RangeIndex: 8807 entries, 0 to 8806\n",
      "Data columns (total 12 columns):\n",
      " #   Column        Non-Null Count  Dtype \n",
      "---  ------        --------------  ----- \n",
      " 0   show_id       8807 non-null   object\n",
      " 1   type          8807 non-null   object\n",
      " 2   title         8807 non-null   object\n",
      " 3   director      6173 non-null   object\n",
      " 4   cast          7982 non-null   object\n",
      " 5   country       7976 non-null   object\n",
      " 6   date_added    8797 non-null   object\n",
      " 7   release_year  8807 non-null   int64 \n",
      " 8   rating        8803 non-null   object\n",
      " 9   duration      8804 non-null   object\n",
      " 10  listed_in     8807 non-null   object\n",
      " 11  description   8807 non-null   object\n",
      "dtypes: int64(1), object(11)\n",
      "memory usage: 825.8+ KB\n"
     ]
    }
   ],
   "source": [
    "df.info()\n"
   ]
  },
  {
   "cell_type": "code",
   "execution_count": 11,
   "id": "68256a18",
   "metadata": {
    "execution": {
     "iopub.execute_input": "2025-06-28T23:41:51.350319Z",
     "iopub.status.busy": "2025-06-28T23:41:51.350007Z",
     "iopub.status.idle": "2025-06-28T23:41:51.361202Z",
     "shell.execute_reply": "2025-06-28T23:41:51.360236Z"
    },
    "papermill": {
     "duration": 0.018042,
     "end_time": "2025-06-28T23:41:51.362535",
     "exception": false,
     "start_time": "2025-06-28T23:41:51.344493",
     "status": "completed"
    },
    "tags": []
   },
   "outputs": [
    {
     "data": {
      "text/plain": [
       "show_id            0\n",
       "type               0\n",
       "title              0\n",
       "director        2634\n",
       "cast             825\n",
       "country          831\n",
       "date_added        10\n",
       "release_year       0\n",
       "rating             4\n",
       "duration           3\n",
       "listed_in          0\n",
       "description        0\n",
       "dtype: int64"
      ]
     },
     "execution_count": 11,
     "metadata": {},
     "output_type": "execute_result"
    }
   ],
   "source": [
    "df.isnull().sum()\n"
   ]
  },
  {
   "cell_type": "code",
   "execution_count": 12,
   "id": "e0adc30d",
   "metadata": {
    "execution": {
     "iopub.execute_input": "2025-06-28T23:41:51.374067Z",
     "iopub.status.busy": "2025-06-28T23:41:51.373471Z",
     "iopub.status.idle": "2025-06-28T23:41:51.380020Z",
     "shell.execute_reply": "2025-06-28T23:41:51.379058Z"
    },
    "papermill": {
     "duration": 0.013671,
     "end_time": "2025-06-28T23:41:51.381603",
     "exception": false,
     "start_time": "2025-06-28T23:41:51.367932",
     "status": "completed"
    },
    "tags": []
   },
   "outputs": [],
   "source": [
    "df['director']= df['director'].fillna('unknown')"
   ]
  },
  {
   "cell_type": "code",
   "execution_count": 13,
   "id": "048e5043",
   "metadata": {
    "execution": {
     "iopub.execute_input": "2025-06-28T23:41:51.392959Z",
     "iopub.status.busy": "2025-06-28T23:41:51.392072Z",
     "iopub.status.idle": "2025-06-28T23:41:51.398441Z",
     "shell.execute_reply": "2025-06-28T23:41:51.397468Z"
    },
    "papermill": {
     "duration": 0.013323,
     "end_time": "2025-06-28T23:41:51.399851",
     "exception": false,
     "start_time": "2025-06-28T23:41:51.386528",
     "status": "completed"
    },
    "tags": []
   },
   "outputs": [],
   "source": [
    "df['cast'] = df['cast'].fillna('unknown')"
   ]
  },
  {
   "cell_type": "code",
   "execution_count": 14,
   "id": "63f43cfb",
   "metadata": {
    "execution": {
     "iopub.execute_input": "2025-06-28T23:41:51.410851Z",
     "iopub.status.busy": "2025-06-28T23:41:51.410262Z",
     "iopub.status.idle": "2025-06-28T23:41:51.415904Z",
     "shell.execute_reply": "2025-06-28T23:41:51.414883Z"
    },
    "papermill": {
     "duration": 0.013203,
     "end_time": "2025-06-28T23:41:51.417898",
     "exception": false,
     "start_time": "2025-06-28T23:41:51.404695",
     "status": "completed"
    },
    "tags": []
   },
   "outputs": [],
   "source": [
    "df['country'] = df['country'].fillna('unknown')"
   ]
  },
  {
   "cell_type": "code",
   "execution_count": 15,
   "id": "68ca0965",
   "metadata": {
    "execution": {
     "iopub.execute_input": "2025-06-28T23:41:51.429847Z",
     "iopub.status.busy": "2025-06-28T23:41:51.429582Z",
     "iopub.status.idle": "2025-06-28T23:41:51.435842Z",
     "shell.execute_reply": "2025-06-28T23:41:51.434864Z"
    },
    "papermill": {
     "duration": 0.013406,
     "end_time": "2025-06-28T23:41:51.437183",
     "exception": false,
     "start_time": "2025-06-28T23:41:51.423777",
     "status": "completed"
    },
    "tags": []
   },
   "outputs": [],
   "source": [
    "df['rating'] = df['rating'].fillna('unknown')"
   ]
  },
  {
   "cell_type": "code",
   "execution_count": 16,
   "id": "1c4ab97c",
   "metadata": {
    "execution": {
     "iopub.execute_input": "2025-06-28T23:41:51.448807Z",
     "iopub.status.busy": "2025-06-28T23:41:51.447910Z",
     "iopub.status.idle": "2025-06-28T23:41:51.455199Z",
     "shell.execute_reply": "2025-06-28T23:41:51.454191Z"
    },
    "papermill": {
     "duration": 0.014489,
     "end_time": "2025-06-28T23:41:51.456683",
     "exception": false,
     "start_time": "2025-06-28T23:41:51.442194",
     "status": "completed"
    },
    "tags": []
   },
   "outputs": [
    {
     "data": {
      "text/plain": [
       "np.int64(0)"
      ]
     },
     "execution_count": 16,
     "metadata": {},
     "output_type": "execute_result"
    }
   ],
   "source": [
    "df['title'].duplicated().sum()\n"
   ]
  },
  {
   "cell_type": "code",
   "execution_count": 17,
   "id": "aa1d4748",
   "metadata": {
    "execution": {
     "iopub.execute_input": "2025-06-28T23:41:51.467699Z",
     "iopub.status.busy": "2025-06-28T23:41:51.467430Z",
     "iopub.status.idle": "2025-06-28T23:41:51.488150Z",
     "shell.execute_reply": "2025-06-28T23:41:51.487421Z"
    },
    "papermill": {
     "duration": 0.028119,
     "end_time": "2025-06-28T23:41:51.489829",
     "exception": false,
     "start_time": "2025-06-28T23:41:51.461710",
     "status": "completed"
    },
    "tags": []
   },
   "outputs": [],
   "source": [
    "df[['duration_num', 'duration_unit']] = df['duration'].str.extract(r'(\\d+)\\s*(\\w+)')\n",
    "df['duration_num'] = df['duration_num'].astype(float) \n"
   ]
  },
  {
   "cell_type": "code",
   "execution_count": 18,
   "id": "f8607dbd",
   "metadata": {
    "execution": {
     "iopub.execute_input": "2025-06-28T23:41:51.501452Z",
     "iopub.status.busy": "2025-06-28T23:41:51.501067Z",
     "iopub.status.idle": "2025-06-28T23:41:51.510117Z",
     "shell.execute_reply": "2025-06-28T23:41:51.509436Z"
    },
    "papermill": {
     "duration": 0.016726,
     "end_time": "2025-06-28T23:41:51.511530",
     "exception": false,
     "start_time": "2025-06-28T23:41:51.494804",
     "status": "completed"
    },
    "tags": []
   },
   "outputs": [],
   "source": [
    "df['country_list']= df['country'].str.split(',')"
   ]
  },
  {
   "cell_type": "code",
   "execution_count": 19,
   "id": "743ada1d",
   "metadata": {
    "execution": {
     "iopub.execute_input": "2025-06-28T23:41:51.522603Z",
     "iopub.status.busy": "2025-06-28T23:41:51.522260Z",
     "iopub.status.idle": "2025-06-28T23:41:51.528669Z",
     "shell.execute_reply": "2025-06-28T23:41:51.527658Z"
    },
    "papermill": {
     "duration": 0.013636,
     "end_time": "2025-06-28T23:41:51.529975",
     "exception": false,
     "start_time": "2025-06-28T23:41:51.516339",
     "status": "completed"
    },
    "tags": []
   },
   "outputs": [],
   "source": [
    "df['date_added'] = df['date_added'].str.strip()"
   ]
  },
  {
   "cell_type": "code",
   "execution_count": 20,
   "id": "44a17115",
   "metadata": {
    "execution": {
     "iopub.execute_input": "2025-06-28T23:41:51.541003Z",
     "iopub.status.busy": "2025-06-28T23:41:51.540695Z",
     "iopub.status.idle": "2025-06-28T23:41:51.555742Z",
     "shell.execute_reply": "2025-06-28T23:41:51.554806Z"
    },
    "papermill": {
     "duration": 0.022234,
     "end_time": "2025-06-28T23:41:51.557231",
     "exception": false,
     "start_time": "2025-06-28T23:41:51.534997",
     "status": "completed"
    },
    "tags": []
   },
   "outputs": [],
   "source": [
    "df['date_added']= pd.to_datetime(df['date_added'],errors='coerce')\n",
    "\n"
   ]
  },
  {
   "cell_type": "code",
   "execution_count": 21,
   "id": "152563c1",
   "metadata": {
    "execution": {
     "iopub.execute_input": "2025-06-28T23:41:51.571346Z",
     "iopub.status.busy": "2025-06-28T23:41:51.570622Z",
     "iopub.status.idle": "2025-06-28T23:41:51.579834Z",
     "shell.execute_reply": "2025-06-28T23:41:51.578882Z"
    },
    "papermill": {
     "duration": 0.016761,
     "end_time": "2025-06-28T23:41:51.581605",
     "exception": false,
     "start_time": "2025-06-28T23:41:51.564844",
     "status": "completed"
    },
    "tags": []
   },
   "outputs": [],
   "source": [
    "df['year_added'] = df['date_added'].dt.year\n",
    "df['month_added']=df['date_added'].dt.month\n",
    "df['day_added']=df['date_added'].dt.month"
   ]
  },
  {
   "cell_type": "code",
   "execution_count": 22,
   "id": "e77a734a",
   "metadata": {
    "execution": {
     "iopub.execute_input": "2025-06-28T23:41:51.593198Z",
     "iopub.status.busy": "2025-06-28T23:41:51.592930Z",
     "iopub.status.idle": "2025-06-28T23:41:51.635158Z",
     "shell.execute_reply": "2025-06-28T23:41:51.634402Z"
    },
    "papermill": {
     "duration": 0.049539,
     "end_time": "2025-06-28T23:41:51.636388",
     "exception": false,
     "start_time": "2025-06-28T23:41:51.586849",
     "status": "completed"
    },
    "tags": []
   },
   "outputs": [
    {
     "data": {
      "text/html": [
       "<div>\n",
       "<style scoped>\n",
       "    .dataframe tbody tr th:only-of-type {\n",
       "        vertical-align: middle;\n",
       "    }\n",
       "\n",
       "    .dataframe tbody tr th {\n",
       "        vertical-align: top;\n",
       "    }\n",
       "\n",
       "    .dataframe thead th {\n",
       "        text-align: right;\n",
       "    }\n",
       "</style>\n",
       "<table border=\"1\" class=\"dataframe\">\n",
       "  <thead>\n",
       "    <tr style=\"text-align: right;\">\n",
       "      <th></th>\n",
       "      <th>director</th>\n",
       "      <th>country_list</th>\n",
       "      <th>movie_count</th>\n",
       "    </tr>\n",
       "  </thead>\n",
       "  <tbody>\n",
       "    <tr>\n",
       "      <th>0</th>\n",
       "      <td>A. L. Vijay</td>\n",
       "      <td>India</td>\n",
       "      <td>2</td>\n",
       "    </tr>\n",
       "    <tr>\n",
       "      <th>1</th>\n",
       "      <td>A. Raajdheep</td>\n",
       "      <td>India</td>\n",
       "      <td>1</td>\n",
       "    </tr>\n",
       "    <tr>\n",
       "      <th>2</th>\n",
       "      <td>A. Salaam</td>\n",
       "      <td>India</td>\n",
       "      <td>1</td>\n",
       "    </tr>\n",
       "    <tr>\n",
       "      <th>3</th>\n",
       "      <td>A.R. Murugadoss</td>\n",
       "      <td>India</td>\n",
       "      <td>1</td>\n",
       "    </tr>\n",
       "    <tr>\n",
       "      <th>4</th>\n",
       "      <td>A.R. Murugadoss</td>\n",
       "      <td>unknown</td>\n",
       "      <td>1</td>\n",
       "    </tr>\n",
       "  </tbody>\n",
       "</table>\n",
       "</div>"
      ],
      "text/plain": [
       "          director country_list  movie_count\n",
       "0      A. L. Vijay        India            2\n",
       "1     A. Raajdheep        India            1\n",
       "2        A. Salaam        India            1\n",
       "3  A.R. Murugadoss        India            1\n",
       "4  A.R. Murugadoss      unknown            1"
      ]
     },
     "execution_count": 22,
     "metadata": {},
     "output_type": "execute_result"
    }
   ],
   "source": [
    "df_exploded = df.explode('country_list')\n",
    "counts = df_exploded.groupby(['director', 'country_list']).size().reset_index(name='movie_count')\n",
    "counts.head()"
   ]
  },
  {
   "cell_type": "code",
   "execution_count": 23,
   "id": "5c8ca055",
   "metadata": {
    "execution": {
     "iopub.execute_input": "2025-06-28T23:41:51.648368Z",
     "iopub.status.busy": "2025-06-28T23:41:51.648069Z",
     "iopub.status.idle": "2025-06-28T23:41:51.659477Z",
     "shell.execute_reply": "2025-06-28T23:41:51.658264Z"
    },
    "papermill": {
     "duration": 0.019569,
     "end_time": "2025-06-28T23:41:51.661036",
     "exception": false,
     "start_time": "2025-06-28T23:41:51.641467",
     "status": "completed"
    },
    "tags": []
   },
   "outputs": [],
   "source": [
    "top_countries = df_exploded['country_list'].value_counts().head(10).index.tolist()\n",
    "df_top_countries = df_exploded[df_exploded['country_list'].isin(top_countries)]"
   ]
  },
  {
   "cell_type": "code",
   "execution_count": 24,
   "id": "8483dc14",
   "metadata": {
    "execution": {
     "iopub.execute_input": "2025-06-28T23:41:51.672310Z",
     "iopub.status.busy": "2025-06-28T23:41:51.672035Z",
     "iopub.status.idle": "2025-06-28T23:41:51.682213Z",
     "shell.execute_reply": "2025-06-28T23:41:51.681419Z"
    },
    "papermill": {
     "duration": 0.01785,
     "end_time": "2025-06-28T23:41:51.683904",
     "exception": false,
     "start_time": "2025-06-28T23:41:51.666054",
     "status": "completed"
    },
    "tags": []
   },
   "outputs": [],
   "source": [
    "# Group by release year, type, and country to count the occurrences\n",
    "type_year_counts_top_countries = df_top_countries.groupby(['release_year', 'type', 'country_list']).size().reset_index(name='count')\n"
   ]
  },
  {
   "cell_type": "code",
   "execution_count": 26,
   "id": "2a4fc7d3",
   "metadata": {
    "execution": {
     "iopub.execute_input": "2025-06-28T23:41:51.695512Z",
     "iopub.status.busy": "2025-06-28T23:41:51.695124Z",
     "iopub.status.idle": "2025-06-28T23:41:53.638811Z",
     "shell.execute_reply": "2025-06-28T23:41:53.637955Z"
    },
    "papermill": {
     "duration": 1.95181,
     "end_time": "2025-06-28T23:41:53.640913",
     "exception": false,
     "start_time": "2025-06-28T23:41:51.689103",
     "status": "completed"
    },
    "tags": []
   },
   "outputs": [],
   "source": [
    "import seaborn as sns\n",
    "import matplotlib.pyplot as plt\n"
   ]
  },
  {
   "cell_type": "code",
   "execution_count": 27,
   "id": "603247f0",
   "metadata": {
    "execution": {
     "iopub.execute_input": "2025-06-28T23:41:53.656234Z",
     "iopub.status.busy": "2025-06-28T23:41:53.655715Z",
     "iopub.status.idle": "2025-06-28T23:41:53.670369Z",
     "shell.execute_reply": "2025-06-28T23:41:53.669458Z"
    },
    "papermill": {
     "duration": 0.025639,
     "end_time": "2025-06-28T23:41:53.671931",
     "exception": false,
     "start_time": "2025-06-28T23:41:53.646292",
     "status": "completed"
    },
    "tags": []
   },
   "outputs": [],
   "source": [
    "df_filtered_years = df_top_countries[(df_top_countries['release_year'] >= 2011) & (df_top_countries['release_year'] <= 2021)]\n",
    "type_year_counts_top_countries = df_filtered_years.groupby(['release_year', 'type', 'country_list']).size().reset_index(name='count')\n",
    "\n",
    "\n"
   ]
  },
  {
   "cell_type": "code",
   "execution_count": 28,
   "id": "42920bc0",
   "metadata": {
    "execution": {
     "iopub.execute_input": "2025-06-28T23:41:53.684770Z",
     "iopub.status.busy": "2025-06-28T23:41:53.684476Z",
     "iopub.status.idle": "2025-06-28T23:41:54.207519Z",
     "shell.execute_reply": "2025-06-28T23:41:54.206441Z"
    },
    "papermill": {
     "duration": 0.531207,
     "end_time": "2025-06-28T23:41:54.209051",
     "exception": false,
     "start_time": "2025-06-28T23:41:53.677844",
     "status": "completed"
    },
    "tags": []
   },
   "outputs": [
    {
     "data": {
      "image/png": "[encoded data removed]",
      "text/plain": [
       "<Figure size 1400x1000 with 2 Axes>"
      ]
     },
     "metadata": {},
     "output_type": "display_data"
    }
   ],
   "source": [
    "heatmap_data = type_year_counts_top_countries.pivot_table(index='release_year', columns=['country_list', 'type'], values='count', fill_value=0)\n",
    "\n",
    "# Create the heatmap\n",
    "plt.figure(figsize=(14, 10))\n",
    "sns.heatmap(heatmap_data, cmap='YlGnBu', cbar=True)\n",
    "plt.title('Movies and TV Shows Popularity by Year (2011-2021) for Top 10 Countries')\n",
    "plt.xlabel('Country & Type')\n",
    "plt.ylabel('Release Year')\n",
    "plt.show()"
   ]
  },
  {
   "cell_type": "code",
   "execution_count": 29,
   "id": "58e0a34b",
   "metadata": {
    "execution": {
     "iopub.execute_input": "2025-06-28T23:41:54.223039Z",
     "iopub.status.busy": "2025-06-28T23:41:54.222764Z",
     "iopub.status.idle": "2025-06-28T23:41:54.482127Z",
     "shell.execute_reply": "2025-06-28T23:41:54.480923Z"
    },
    "papermill": {
     "duration": 0.268394,
     "end_time": "2025-06-28T23:41:54.483814",
     "exception": false,
     "start_time": "2025-06-28T23:41:54.215420",
     "status": "completed"
    },
    "tags": []
   },
   "outputs": [
    {
     "name": "stderr",
     "output_type": "stream",
     "text": [
      "C:\\Users\\jahna\\AppData\\Local\\Temp\\ipykernel_3932\\1795941826.py:2: FutureWarning: \n",
      "\n",
      "The `ci` parameter is deprecated. Use `errorbar=None` for the same effect.\n",
      "\n",
      "  sns.barplot(x='release_year', y='count', hue='type', data=type_year_counts_top_countries, ci=None)\n"
     ]
    },
    {
     "data": {
      "image/png": "[encoded data removed]",
      "text/plain": [
       "<Figure size 1400x800 with 1 Axes>"
      ]
     },
     "metadata": {},
     "output_type": "display_data"
    }
   ],
   "source": [
    "plt.figure(figsize=(14, 8))\n",
    "sns.barplot(x='release_year', y='count', hue='type', data=type_year_counts_top_countries, ci=None)\n",
    "\n",
    "plt.title(\"Movies and TV Shows by Year for Top 10 Countries (2011-2021)\")\n",
    "plt.xlabel(\"Release Year\")\n",
    "plt.ylabel(\"Count\")\n",
    "plt.xticks(rotation=45)\n",
    "plt.legend(title=\"Type\", loc=\"upper left\")\n",
    "plt.show()"
   ]
  },
  {
   "cell_type": "code",
   "execution_count": 30,
   "id": "7dfba026",
   "metadata": {
    "execution": {
     "iopub.execute_input": "2025-06-28T23:41:54.498498Z",
     "iopub.status.busy": "2025-06-28T23:41:54.498217Z",
     "iopub.status.idle": "2025-06-28T23:41:54.774490Z",
     "shell.execute_reply": "2025-06-28T23:41:54.773529Z"
    },
    "papermill": {
     "duration": 0.285262,
     "end_time": "2025-06-28T23:41:54.776010",
     "exception": false,
     "start_time": "2025-06-28T23:41:54.490748",
     "status": "completed"
    },
    "tags": []
   },
   "outputs": [
    {
     "data": {
      "image/png": "[encoded data removed]",
      "text/plain": [
       "<Figure size 1200x700 with 1 Axes>"
      ]
     },
     "metadata": {},
     "output_type": "display_data"
    }
   ],
   "source": [
    "# Split the genres and count occurrences\n",
    "genre_counts = df['listed_in'].str.split(', ', expand=True).stack().value_counts()\n",
    "\n",
    "# Plotting\n",
    "plt.figure(figsize=(12, 7))\n",
    "genre_counts.head(10).plot(kind='barh', color='#98C9E1')\n",
    "plt.title('Top 10 Most Common Netflix Genres')\n",
    "plt.xlabel('Count')\n",
    "plt.ylabel('Genre')\n",
    "plt.tight_layout()\n",
    "plt.show()\n"
   ]
  }
 ],
 "metadata": {
  "kaggle": {
   "accelerator": "none",
   "dataSources": [
    {
     "datasetId": 6417893,
     "sourceId": 10362470,
     "sourceType": "datasetVersion"
    }
   ],
   "dockerImageVersionId": 31040,
   "isGpuEnabled": false,
   "isInternetEnabled": false,
   "language": "python",
   "sourceType": "notebook"
  },
  "kernelspec": {
   "display_name": "Python 3",
   "language": "python",
   "name": "python3"
  },
  "language_info": {
   "codemirror_mode": {
    "name": "ipython",
    "version": 3
   },
   "file_extension": ".py",
   "mimetype": "text/x-python",
   "name": "python",
   "nbconvert_exporter": "python",
   "pygments_lexer": "ipython3",
   "version": "3.13.5"
  },
  "papermill": {
   "default_parameters": {},
   "duration": 10.808907,
   "end_time": "2025-06-28T23:41:55.404424",
   "environment_variables": {},
   "exception": null,
   "input_path": "__notebook__.ipynb",
   "output_path": "__notebook__.ipynb",
   "parameters": {},
   "start_time": "2025-06-28T23:41:44.595517",
   "version": "2.6.0"
  }
 },
 "nbformat": 4,
 "nbformat_minor": 5
}
